{
 "cells": [
  {
   "cell_type": "code",
   "execution_count": 38,
   "metadata": {},
   "outputs": [],
   "source": [
    "import os\n",
    "\n",
    "import pandas as pd\n",
    "import numpy as np\n",
    "import pickle\n",
    "\n",
    "from sklearn.model_selection import train_test_split\n",
    "from sklearn.metrics import r2_score\n",
    "\n",
    "from pmdarima.arima import auto_arima\n",
    "\n",
    "import matplotlib.pyplot as plt\n",
    "import matplotlib\n",
    "plt.style.use('seaborn-whitegrid')\n",
    "\n",
    "import statsmodels.api as sm\n",
    "from statsmodels.graphics.tsaplots import plot_acf, plot_pacf\n",
    "from statsmodels.tsa.arima_model import ARIMA\n",
    "from statsmodels.tsa.statespace.sarimax import SARIMAX\n",
    "\n",
    "import seaborn as sns\n",
    "\n",
    "plt.style.use('seaborn-whitegrid')\n",
    "import itertools"
   ]
  },
  {
   "cell_type": "code",
   "execution_count": 4,
   "metadata": {},
   "outputs": [],
   "source": [
    "def open_file():\n",
    "    with open('ddata_min.pickle', 'rb') as f:\n",
    "        f_data = pickle.load(f)\n",
    "    return f_data"
   ]
  },
  {
   "cell_type": "code",
   "execution_count": 5,
   "metadata": {},
   "outputs": [],
   "source": [
    "df = open_file()"
   ]
  },
  {
   "cell_type": "code",
   "execution_count": 15,
   "metadata": {},
   "outputs": [],
   "source": [
    "df_btc = df[df.permno == 'BTC']"
   ]
  },
  {
   "cell_type": "code",
   "execution_count": 16,
   "metadata": {},
   "outputs": [],
   "source": [
    "df_300min_tvol = df_btc.tvol.rolling(window=300).sum()\n",
    "df_prc_mul_tvol = (df_btc.prc*df_btc.tvol).rolling(window=300).sum()"
   ]
  },
  {
   "cell_type": "code",
   "execution_count": 17,
   "metadata": {},
   "outputs": [
    {
     "name": "stderr",
     "output_type": "stream",
     "text": [
      "<ipython-input-17-8cee3d5ee920>:1: SettingWithCopyWarning: \n",
      "A value is trying to be set on a copy of a slice from a DataFrame.\n",
      "Try using .loc[row_indexer,col_indexer] = value instead\n",
      "\n",
      "See the caveats in the documentation: https://pandas.pydata.org/pandas-docs/stable/user_guide/indexing.html#returning-a-view-versus-a-copy\n",
      "  df_btc['vwap'] = df_prc_mul_tvol / df_300min_tvol\n"
     ]
    }
   ],
   "source": [
    "df_btc['vwap'] = df_prc_mul_tvol / df_300min_tvol"
   ]
  },
  {
   "cell_type": "code",
   "execution_count": 18,
   "metadata": {},
   "outputs": [
    {
     "data": {
      "text/html": [
       "<div>\n",
       "<style scoped>\n",
       "    .dataframe tbody tr th:only-of-type {\n",
       "        vertical-align: middle;\n",
       "    }\n",
       "\n",
       "    .dataframe tbody tr th {\n",
       "        vertical-align: top;\n",
       "    }\n",
       "\n",
       "    .dataframe thead th {\n",
       "        text-align: right;\n",
       "    }\n",
       "</style>\n",
       "<table border=\"1\" class=\"dataframe\">\n",
       "  <thead>\n",
       "    <tr style=\"text-align: right;\">\n",
       "      <th></th>\n",
       "      <th>permno</th>\n",
       "      <th>prc</th>\n",
       "      <th>tvol</th>\n",
       "      <th>mcap</th>\n",
       "      <th>vwap</th>\n",
       "    </tr>\n",
       "    <tr>\n",
       "      <th>date</th>\n",
       "      <th></th>\n",
       "      <th></th>\n",
       "      <th></th>\n",
       "      <th></th>\n",
       "      <th></th>\n",
       "    </tr>\n",
       "  </thead>\n",
       "  <tbody>\n",
       "    <tr>\n",
       "      <th>2019-09-08 17:57:00</th>\n",
       "      <td>BTC</td>\n",
       "      <td>10000.00</td>\n",
       "      <td>0.001</td>\n",
       "      <td>1.884885e+11</td>\n",
       "      <td>NaN</td>\n",
       "    </tr>\n",
       "    <tr>\n",
       "      <th>2019-09-08 17:58:00</th>\n",
       "      <td>BTC</td>\n",
       "      <td>10000.00</td>\n",
       "      <td>0.000</td>\n",
       "      <td>1.884885e+11</td>\n",
       "      <td>NaN</td>\n",
       "    </tr>\n",
       "    <tr>\n",
       "      <th>2019-09-08 17:59:00</th>\n",
       "      <td>BTC</td>\n",
       "      <td>10000.00</td>\n",
       "      <td>0.001</td>\n",
       "      <td>1.884885e+11</td>\n",
       "      <td>NaN</td>\n",
       "    </tr>\n",
       "    <tr>\n",
       "      <th>2019-09-08 18:00:00</th>\n",
       "      <td>BTC</td>\n",
       "      <td>10000.00</td>\n",
       "      <td>0.000</td>\n",
       "      <td>1.884885e+11</td>\n",
       "      <td>NaN</td>\n",
       "    </tr>\n",
       "    <tr>\n",
       "      <th>2019-09-08 18:01:00</th>\n",
       "      <td>BTC</td>\n",
       "      <td>10000.00</td>\n",
       "      <td>0.000</td>\n",
       "      <td>1.884885e+11</td>\n",
       "      <td>NaN</td>\n",
       "    </tr>\n",
       "    <tr>\n",
       "      <th>...</th>\n",
       "      <td>...</td>\n",
       "      <td>...</td>\n",
       "      <td>...</td>\n",
       "      <td>...</td>\n",
       "      <td>...</td>\n",
       "    </tr>\n",
       "    <tr>\n",
       "      <th>2021-06-29 00:55:00</th>\n",
       "      <td>BTC</td>\n",
       "      <td>34964.05</td>\n",
       "      <td>446.247</td>\n",
       "      <td>6.494617e+11</td>\n",
       "      <td>34571.713516</td>\n",
       "    </tr>\n",
       "    <tr>\n",
       "      <th>2021-06-29 00:56:00</th>\n",
       "      <td>BTC</td>\n",
       "      <td>34917.94</td>\n",
       "      <td>288.977</td>\n",
       "      <td>6.494617e+11</td>\n",
       "      <td>34572.870055</td>\n",
       "    </tr>\n",
       "    <tr>\n",
       "      <th>2021-06-29 00:57:00</th>\n",
       "      <td>BTC</td>\n",
       "      <td>34948.84</td>\n",
       "      <td>199.008</td>\n",
       "      <td>6.494617e+11</td>\n",
       "      <td>34573.843550</td>\n",
       "    </tr>\n",
       "    <tr>\n",
       "      <th>2021-06-29 00:58:00</th>\n",
       "      <td>BTC</td>\n",
       "      <td>34909.89</td>\n",
       "      <td>236.602</td>\n",
       "      <td>6.494617e+11</td>\n",
       "      <td>34574.882686</td>\n",
       "    </tr>\n",
       "    <tr>\n",
       "      <th>2021-06-29 00:59:00</th>\n",
       "      <td>BTC</td>\n",
       "      <td>34920.75</td>\n",
       "      <td>127.722</td>\n",
       "      <td>6.494617e+11</td>\n",
       "      <td>34575.487584</td>\n",
       "    </tr>\n",
       "  </tbody>\n",
       "</table>\n",
       "<p>949382 rows × 5 columns</p>\n",
       "</div>"
      ],
      "text/plain": [
       "                    permno       prc     tvol          mcap          vwap\n",
       "date                                                                     \n",
       "2019-09-08 17:57:00    BTC  10000.00    0.001  1.884885e+11           NaN\n",
       "2019-09-08 17:58:00    BTC  10000.00    0.000  1.884885e+11           NaN\n",
       "2019-09-08 17:59:00    BTC  10000.00    0.001  1.884885e+11           NaN\n",
       "2019-09-08 18:00:00    BTC  10000.00    0.000  1.884885e+11           NaN\n",
       "2019-09-08 18:01:00    BTC  10000.00    0.000  1.884885e+11           NaN\n",
       "...                    ...       ...      ...           ...           ...\n",
       "2021-06-29 00:55:00    BTC  34964.05  446.247  6.494617e+11  34571.713516\n",
       "2021-06-29 00:56:00    BTC  34917.94  288.977  6.494617e+11  34572.870055\n",
       "2021-06-29 00:57:00    BTC  34948.84  199.008  6.494617e+11  34573.843550\n",
       "2021-06-29 00:58:00    BTC  34909.89  236.602  6.494617e+11  34574.882686\n",
       "2021-06-29 00:59:00    BTC  34920.75  127.722  6.494617e+11  34575.487584\n",
       "\n",
       "[949382 rows x 5 columns]"
      ]
     },
     "execution_count": 18,
     "metadata": {},
     "output_type": "execute_result"
    }
   ],
   "source": [
    "df_btc"
   ]
  },
  {
   "cell_type": "code",
   "execution_count": 22,
   "metadata": {},
   "outputs": [
    {
     "name": "stderr",
     "output_type": "stream",
     "text": [
      "<ipython-input-22-f4b9105b329e>:7: SettingWithCopyWarning: \n",
      "A value is trying to be set on a copy of a slice from a DataFrame.\n",
      "Try using .loc[row_indexer,col_indexer] = value instead\n",
      "\n",
      "See the caveats in the documentation: https://pandas.pydata.org/pandas-docs/stable/user_guide/indexing.html#returning-a-view-versus-a-copy\n",
      "  df_btc['RSI'] = RSI\n"
     ]
    }
   ],
   "source": [
    "period = 300\n",
    "U = np.where(df_btc.prc.diff(1) > 0, df_btc.prc.diff(1), 0)\n",
    "D = np.where(df_btc.prc.diff(1) < 0, df_btc.prc.diff(1)*(-1), 0)\n",
    "AU = pd.DataFrame(U, index=df_btc.index).rolling(window=period).mean()\n",
    "AD = pd.DataFrame(D, index=df_btc.index).rolling(window=period).mean()\n",
    "RSI = AU / (AD+AU) * 100\n",
    "df_btc['RSI'] = RSI"
   ]
  },
  {
   "cell_type": "code",
   "execution_count": 23,
   "metadata": {},
   "outputs": [
    {
     "data": {
      "text/html": [
       "<div>\n",
       "<style scoped>\n",
       "    .dataframe tbody tr th:only-of-type {\n",
       "        vertical-align: middle;\n",
       "    }\n",
       "\n",
       "    .dataframe tbody tr th {\n",
       "        vertical-align: top;\n",
       "    }\n",
       "\n",
       "    .dataframe thead th {\n",
       "        text-align: right;\n",
       "    }\n",
       "</style>\n",
       "<table border=\"1\" class=\"dataframe\">\n",
       "  <thead>\n",
       "    <tr style=\"text-align: right;\">\n",
       "      <th></th>\n",
       "      <th>permno</th>\n",
       "      <th>prc</th>\n",
       "      <th>tvol</th>\n",
       "      <th>mcap</th>\n",
       "      <th>vwap</th>\n",
       "      <th>RSI</th>\n",
       "    </tr>\n",
       "    <tr>\n",
       "      <th>date</th>\n",
       "      <th></th>\n",
       "      <th></th>\n",
       "      <th></th>\n",
       "      <th></th>\n",
       "      <th></th>\n",
       "      <th></th>\n",
       "    </tr>\n",
       "  </thead>\n",
       "  <tbody>\n",
       "    <tr>\n",
       "      <th>2019-09-08 17:57:00</th>\n",
       "      <td>BTC</td>\n",
       "      <td>10000.00</td>\n",
       "      <td>0.001</td>\n",
       "      <td>1.884885e+11</td>\n",
       "      <td>NaN</td>\n",
       "      <td>NaN</td>\n",
       "    </tr>\n",
       "    <tr>\n",
       "      <th>2019-09-08 17:58:00</th>\n",
       "      <td>BTC</td>\n",
       "      <td>10000.00</td>\n",
       "      <td>0.000</td>\n",
       "      <td>1.884885e+11</td>\n",
       "      <td>NaN</td>\n",
       "      <td>NaN</td>\n",
       "    </tr>\n",
       "    <tr>\n",
       "      <th>2019-09-08 17:59:00</th>\n",
       "      <td>BTC</td>\n",
       "      <td>10000.00</td>\n",
       "      <td>0.001</td>\n",
       "      <td>1.884885e+11</td>\n",
       "      <td>NaN</td>\n",
       "      <td>NaN</td>\n",
       "    </tr>\n",
       "    <tr>\n",
       "      <th>2019-09-08 18:00:00</th>\n",
       "      <td>BTC</td>\n",
       "      <td>10000.00</td>\n",
       "      <td>0.000</td>\n",
       "      <td>1.884885e+11</td>\n",
       "      <td>NaN</td>\n",
       "      <td>NaN</td>\n",
       "    </tr>\n",
       "    <tr>\n",
       "      <th>2019-09-08 18:01:00</th>\n",
       "      <td>BTC</td>\n",
       "      <td>10000.00</td>\n",
       "      <td>0.000</td>\n",
       "      <td>1.884885e+11</td>\n",
       "      <td>NaN</td>\n",
       "      <td>NaN</td>\n",
       "    </tr>\n",
       "    <tr>\n",
       "      <th>...</th>\n",
       "      <td>...</td>\n",
       "      <td>...</td>\n",
       "      <td>...</td>\n",
       "      <td>...</td>\n",
       "      <td>...</td>\n",
       "      <td>...</td>\n",
       "    </tr>\n",
       "    <tr>\n",
       "      <th>2021-06-29 00:55:00</th>\n",
       "      <td>BTC</td>\n",
       "      <td>34964.05</td>\n",
       "      <td>446.247</td>\n",
       "      <td>6.494617e+11</td>\n",
       "      <td>34571.713516</td>\n",
       "      <td>53.208971</td>\n",
       "    </tr>\n",
       "    <tr>\n",
       "      <th>2021-06-29 00:56:00</th>\n",
       "      <td>BTC</td>\n",
       "      <td>34917.94</td>\n",
       "      <td>288.977</td>\n",
       "      <td>6.494617e+11</td>\n",
       "      <td>34572.870055</td>\n",
       "      <td>52.766937</td>\n",
       "    </tr>\n",
       "    <tr>\n",
       "      <th>2021-06-29 00:57:00</th>\n",
       "      <td>BTC</td>\n",
       "      <td>34948.84</td>\n",
       "      <td>199.008</td>\n",
       "      <td>6.494617e+11</td>\n",
       "      <td>34573.843550</td>\n",
       "      <td>52.664768</td>\n",
       "    </tr>\n",
       "    <tr>\n",
       "      <th>2021-06-29 00:58:00</th>\n",
       "      <td>BTC</td>\n",
       "      <td>34909.89</td>\n",
       "      <td>236.602</td>\n",
       "      <td>6.494617e+11</td>\n",
       "      <td>34574.882686</td>\n",
       "      <td>52.702510</td>\n",
       "    </tr>\n",
       "    <tr>\n",
       "      <th>2021-06-29 00:59:00</th>\n",
       "      <td>BTC</td>\n",
       "      <td>34920.75</td>\n",
       "      <td>127.722</td>\n",
       "      <td>6.494617e+11</td>\n",
       "      <td>34575.487584</td>\n",
       "      <td>52.805133</td>\n",
       "    </tr>\n",
       "  </tbody>\n",
       "</table>\n",
       "<p>949382 rows × 6 columns</p>\n",
       "</div>"
      ],
      "text/plain": [
       "                    permno       prc     tvol          mcap          vwap  \\\n",
       "date                                                                        \n",
       "2019-09-08 17:57:00    BTC  10000.00    0.001  1.884885e+11           NaN   \n",
       "2019-09-08 17:58:00    BTC  10000.00    0.000  1.884885e+11           NaN   \n",
       "2019-09-08 17:59:00    BTC  10000.00    0.001  1.884885e+11           NaN   \n",
       "2019-09-08 18:00:00    BTC  10000.00    0.000  1.884885e+11           NaN   \n",
       "2019-09-08 18:01:00    BTC  10000.00    0.000  1.884885e+11           NaN   \n",
       "...                    ...       ...      ...           ...           ...   \n",
       "2021-06-29 00:55:00    BTC  34964.05  446.247  6.494617e+11  34571.713516   \n",
       "2021-06-29 00:56:00    BTC  34917.94  288.977  6.494617e+11  34572.870055   \n",
       "2021-06-29 00:57:00    BTC  34948.84  199.008  6.494617e+11  34573.843550   \n",
       "2021-06-29 00:58:00    BTC  34909.89  236.602  6.494617e+11  34574.882686   \n",
       "2021-06-29 00:59:00    BTC  34920.75  127.722  6.494617e+11  34575.487584   \n",
       "\n",
       "                           RSI  \n",
       "date                            \n",
       "2019-09-08 17:57:00        NaN  \n",
       "2019-09-08 17:58:00        NaN  \n",
       "2019-09-08 17:59:00        NaN  \n",
       "2019-09-08 18:00:00        NaN  \n",
       "2019-09-08 18:01:00        NaN  \n",
       "...                        ...  \n",
       "2021-06-29 00:55:00  53.208971  \n",
       "2021-06-29 00:56:00  52.766937  \n",
       "2021-06-29 00:57:00  52.664768  \n",
       "2021-06-29 00:58:00  52.702510  \n",
       "2021-06-29 00:59:00  52.805133  \n",
       "\n",
       "[949382 rows x 6 columns]"
      ]
     },
     "execution_count": 23,
     "metadata": {},
     "output_type": "execute_result"
    }
   ],
   "source": [
    "df_btc"
   ]
  },
  {
   "cell_type": "code",
   "execution_count": 30,
   "metadata": {},
   "outputs": [
    {
     "name": "stderr",
     "output_type": "stream",
     "text": [
      "/Users/jihoon/opt/anaconda3/lib/python3.8/site-packages/pandas/core/frame.py:4163: SettingWithCopyWarning: \n",
      "A value is trying to be set on a copy of a slice from a DataFrame\n",
      "\n",
      "See the caveats in the documentation: https://pandas.pydata.org/pandas-docs/stable/user_guide/indexing.html#returning-a-view-versus-a-copy\n",
      "  return super().drop(\n"
     ]
    }
   ],
   "source": [
    "df_btc.drop(['mcap'], axis=1, inplace=True)"
   ]
  },
  {
   "cell_type": "code",
   "execution_count": 44,
   "metadata": {},
   "outputs": [],
   "source": [
    "diff_data = df_btc.prc - df_btc.vwap"
   ]
  },
  {
   "cell_type": "code",
   "execution_count": 55,
   "metadata": {},
   "outputs": [
    {
     "data": {
      "text/plain": [
       "-7735.348437429431"
      ]
     },
     "execution_count": 55,
     "metadata": {},
     "output_type": "execute_result"
    }
   ],
   "source": [
    "diff_data = diff_data.dropna()"
   ]
  },
  {
   "cell_type": "code",
   "execution_count": 56,
   "metadata": {},
   "outputs": [
    {
     "data": {
      "image/png": "[encoded data removed]",
      "text/plain": [
       "<Figure size 432x288 with 1 Axes>"
      ]
     },
     "metadata": {},
     "output_type": "display_data"
    },
    {
     "data": {
      "image/png": "[encoded data removed]",
      "text/plain": [
       "<Figure size 432x288 with 1 Axes>"
      ]
     },
     "metadata": {},
     "output_type": "display_data"
    }
   ],
   "source": [
    "plot_acf(diff_data)\n",
    "plot_pacf(diff_data);"
   ]
  },
  {
   "cell_type": "code",
   "execution_count": 62,
   "metadata": {},
   "outputs": [],
   "source": [
    "second_diff_data = diff_data.diff()\n",
    "second_diff_data = second_diff_data.dropna()"
   ]
  },
  {
   "cell_type": "code",
   "execution_count": 63,
   "metadata": {},
   "outputs": [
    {
     "data": {
      "image/png": "[encoded data removed]",
      "text/plain": [
       "<Figure size 432x288 with 1 Axes>"
      ]
     },
     "metadata": {},
     "output_type": "display_data"
    },
    {
     "data": {
      "image/png": "[encoded data removed]",
      "text/plain": [
       "<Figure size 432x288 with 1 Axes>"
      ]
     },
     "metadata": {},
     "output_type": "display_data"
    }
   ],
   "source": [
    "plot_acf(second_diff_data)\n",
    "plot_pacf(second_diff_data);"
   ]
  },
  {
   "cell_type": "code",
   "execution_count": 40,
   "metadata": {},
   "outputs": [],
   "source": [
    "diff_prc = df_btc.copy()\n",
    "diff_prc = diff_prc.prc.diff()\n",
    "diff_prc = diff_prc.dropna()"
   ]
  },
  {
   "cell_type": "code",
   "execution_count": null,
   "metadata": {},
   "outputs": [
    {
     "name": "stdout",
     "output_type": "stream",
     "text": [
      " ARIMA(0,1,0)(0,0,0)[0] intercept   : AIC=10211628.078, Time=16.88 sec\n",
      " ARIMA(0,1,1)(0,0,0)[0] intercept   : AIC=inf, Time=417.04 sec\n",
      " ARIMA(0,1,2)(0,0,0)[0] intercept   : AIC=inf, Time=539.28 sec\n",
      " ARIMA(0,1,3)(0,0,0)[0] intercept   : AIC=inf, Time=787.59 sec\n",
      " ARIMA(1,1,0)(0,0,0)[0] intercept   : AIC=9949625.596, Time=22.54 sec\n",
      " ARIMA(1,1,1)(0,0,0)[0] intercept   : AIC=inf, Time=770.35 sec\n",
      " ARIMA(1,1,2)(0,0,0)[0] intercept   : AIC=inf, Time=357.10 sec\n",
      " ARIMA(1,1,3)(0,0,0)[0] intercept   : AIC=inf, Time=599.70 sec\n",
      " ARIMA(2,1,0)(0,0,0)[0] intercept   : AIC=9829690.379, Time=25.86 sec\n",
      " ARIMA(2,1,1)(0,0,0)[0] intercept   : AIC=inf, Time=354.07 sec\n",
      " ARIMA(2,1,2)(0,0,0)[0] intercept   : AIC=inf, Time=419.97 sec\n"
     ]
    }
   ],
   "source": [
    "auto_arima_model = auto_arima(second_diff_data, start_p=1, start_q=1,\n",
    "                             max_p=3, max_q=3, seasonal=False,\n",
    "                             d=1,\n",
    "                             trace=True,\n",
    "                             error_action='ignore',\n",
    "                             suppress_warnings=True,\n",
    "                             stepwise=False)"
   ]
  },
  {
   "cell_type": "code",
   "execution_count": null,
   "metadata": {},
   "outputs": [],
   "source": []
  }
 ],
 "metadata": {
  "kernelspec": {
   "display_name": "Python 3",
   "language": "python",
   "name": "python3"
  },
  "language_info": {
   "codemirror_mode": {
    "name": "ipython",
    "version": 3
   },
   "file_extension": ".py",
   "mimetype": "text/x-python",
   "name": "python",
   "nbconvert_exporter": "python",
   "pygments_lexer": "ipython3",
   "version": "3.8.2"
  }
 },
 "nbformat": 4,
 "nbformat_minor": 4
}
